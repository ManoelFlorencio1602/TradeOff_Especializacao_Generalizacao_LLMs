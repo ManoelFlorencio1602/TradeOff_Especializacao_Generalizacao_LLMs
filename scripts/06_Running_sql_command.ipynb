{
 "cells": [
  {
   "cell_type": "code",
   "execution_count": 1,
   "id": "fb77fcd3-8bef-4cfa-9520-3a8d6f7210a6",
   "metadata": {},
   "outputs": [],
   "source": [
    "import sqlite3\n",
    "import numpy as np\n",
    "import pandas as pd\n",
    "import tqdm\n",
    "import glob\n",
    "import os"
   ]
  },
  {
   "cell_type": "code",
   "execution_count": null,
   "id": "d98c0116-7e8a-487f-aa97-ee062d6b57cb",
   "metadata": {},
   "outputs": [],
   "source": [
    "path = '..'\n",
    "os.chdir(path)\n",
    "print(os.getcwd())"
   ]
  },
  {
   "cell_type": "code",
   "execution_count": 3,
   "id": "873699d5-df94-4b67-ba9a-9f91947d63a0",
   "metadata": {},
   "outputs": [],
   "source": [
    "def find_db_schema_filename(db_id):\n",
    "    filename = glob.glob(f'spider_data/spider_data/database/{db_id}/*.sql')[0]\n",
    "    return filename"
   ]
  },
  {
   "cell_type": "code",
   "execution_count": 5,
   "id": "585d3ff9-da13-4b81-b08a-b60b62cd933b",
   "metadata": {},
   "outputs": [],
   "source": [
    "def extract_schema(db_id):\n",
    "    with open(find_db_schema_filename(db_id), 'r', encoding=\"utf-8\") as file:\n",
    "        clauses = file.read().split(';')\n",
    "        clauses = [clause[clause.lower().find(\"create table\"):] for clause in clauses if \"create table\" in clause.lower()]\n",
    "    schema = \"\\n\".join(clauses).strip()\n",
    "    return schema"
   ]
  },
  {
   "cell_type": "code",
   "execution_count": 7,
   "id": "60ee7c86-8673-4b5e-866a-cbe030dc648f",
   "metadata": {},
   "outputs": [],
   "source": [
    "# model_name = 'base'\n",
    "# model_name = 'LR1e4'\n",
    "model_name = 'LR5e5'"
   ]
  },
  {
   "cell_type": "code",
   "execution_count": 9,
   "id": "4006dfe3-0178-4557-a3fa-023f9155b17a",
   "metadata": {},
   "outputs": [],
   "source": [
    "answers = np.load(f'answers/llama3-8b-{model_name}-T2S-answers.npy')"
   ]
  },
  {
   "cell_type": "code",
   "execution_count": 11,
   "id": "ff2014e6-930c-4443-bdab-43e99c20b99e",
   "metadata": {},
   "outputs": [
    {
     "data": {
      "text/plain": [
       "'SELECT count(*) FROM singer'"
      ]
     },
     "execution_count": 11,
     "metadata": {},
     "output_type": "execute_result"
    }
   ],
   "source": [
    "answers[0]"
   ]
  },
  {
   "cell_type": "code",
   "execution_count": 13,
   "id": "cbd42be6-6df2-4f52-b779-2a793f13008a",
   "metadata": {},
   "outputs": [
    {
     "data": {
      "text/html": [
       "<div>\n",
       "<style scoped>\n",
       "    .dataframe tbody tr th:only-of-type {\n",
       "        vertical-align: middle;\n",
       "    }\n",
       "\n",
       "    .dataframe tbody tr th {\n",
       "        vertical-align: top;\n",
       "    }\n",
       "\n",
       "    .dataframe thead th {\n",
       "        text-align: right;\n",
       "    }\n",
       "</style>\n",
       "<table border=\"1\" class=\"dataframe\">\n",
       "  <thead>\n",
       "    <tr style=\"text-align: right;\">\n",
       "      <th></th>\n",
       "      <th>db_id</th>\n",
       "      <th>query</th>\n",
       "      <th>question</th>\n",
       "    </tr>\n",
       "  </thead>\n",
       "  <tbody>\n",
       "    <tr>\n",
       "      <th>0</th>\n",
       "      <td>concert_singer</td>\n",
       "      <td>SELECT count(*) FROM singer</td>\n",
       "      <td>How many singers do we have?</td>\n",
       "    </tr>\n",
       "    <tr>\n",
       "      <th>1</th>\n",
       "      <td>concert_singer</td>\n",
       "      <td>SELECT count(*) FROM singer</td>\n",
       "      <td>What is the total number of singers?</td>\n",
       "    </tr>\n",
       "    <tr>\n",
       "      <th>2</th>\n",
       "      <td>concert_singer</td>\n",
       "      <td>SELECT name ,  country ,  age FROM singer ORDE...</td>\n",
       "      <td>Show name, country, age for all singers ordere...</td>\n",
       "    </tr>\n",
       "    <tr>\n",
       "      <th>3</th>\n",
       "      <td>concert_singer</td>\n",
       "      <td>SELECT name ,  country ,  age FROM singer ORDE...</td>\n",
       "      <td>What are the names, countries, and ages for ev...</td>\n",
       "    </tr>\n",
       "    <tr>\n",
       "      <th>4</th>\n",
       "      <td>concert_singer</td>\n",
       "      <td>SELECT avg(age) ,  min(age) ,  max(age) FROM s...</td>\n",
       "      <td>What is the average, minimum, and maximum age ...</td>\n",
       "    </tr>\n",
       "  </tbody>\n",
       "</table>\n",
       "</div>"
      ],
      "text/plain": [
       "            db_id                                              query  \\\n",
       "0  concert_singer                        SELECT count(*) FROM singer   \n",
       "1  concert_singer                        SELECT count(*) FROM singer   \n",
       "2  concert_singer  SELECT name ,  country ,  age FROM singer ORDE...   \n",
       "3  concert_singer  SELECT name ,  country ,  age FROM singer ORDE...   \n",
       "4  concert_singer  SELECT avg(age) ,  min(age) ,  max(age) FROM s...   \n",
       "\n",
       "                                            question  \n",
       "0                       How many singers do we have?  \n",
       "1               What is the total number of singers?  \n",
       "2  Show name, country, age for all singers ordere...  \n",
       "3  What are the names, countries, and ages for ev...  \n",
       "4  What is the average, minimum, and maximum age ...  "
      ]
     },
     "execution_count": 13,
     "metadata": {},
     "output_type": "execute_result"
    }
   ],
   "source": [
    "names = ['db_id', 'query', 'question']\n",
    "test_df = pd.read_json('spider_data/spider_data/dev.json')\n",
    "test_df = test_df[names]\n",
    "test_df.head()"
   ]
  },
  {
   "cell_type": "code",
   "execution_count": 15,
   "id": "aae74922-a154-4d61-a9b2-434e558f933d",
   "metadata": {},
   "outputs": [
    {
     "name": "stderr",
     "output_type": "stream",
     "text": [
      "100%|████████████████████████████████████████████████████████████████████████████| 1034/1034 [00:00<00:00, 2842.52it/s]\n"
     ]
    }
   ],
   "source": [
    "test_missing_schema = []\n",
    "for i in tqdm.tqdm(range(len(test_df))):\n",
    "    db_id = test_df.iloc[i, 0]\n",
    "    query = test_df.iloc[i, 1]\n",
    "    question = test_df.iloc[i, 2]\n",
    "    \n",
    "    try:\n",
    "        schema = extract_schema(db_id)\n",
    "    except IndexError:\n",
    "        if(db_id not in test_missing_schema):\n",
    "            test_missing_schema.append(db_id)"
   ]
  },
  {
   "cell_type": "code",
   "execution_count": 16,
   "id": "764cda66-bd3f-4673-a2c0-c8ba7781a5ff",
   "metadata": {},
   "outputs": [
    {
     "data": {
      "text/plain": [
       "['voter_1', 'world_1']"
      ]
     },
     "execution_count": 16,
     "metadata": {},
     "output_type": "execute_result"
    }
   ],
   "source": [
    "test_missing_schema"
   ]
  },
  {
   "cell_type": "code",
   "execution_count": 19,
   "id": "baa2e576-6525-4140-a397-c221047c398a",
   "metadata": {},
   "outputs": [
    {
     "data": {
      "text/html": [
       "<div>\n",
       "<style scoped>\n",
       "    .dataframe tbody tr th:only-of-type {\n",
       "        vertical-align: middle;\n",
       "    }\n",
       "\n",
       "    .dataframe tbody tr th {\n",
       "        vertical-align: top;\n",
       "    }\n",
       "\n",
       "    .dataframe thead th {\n",
       "        text-align: right;\n",
       "    }\n",
       "</style>\n",
       "<table border=\"1\" class=\"dataframe\">\n",
       "  <thead>\n",
       "    <tr style=\"text-align: right;\">\n",
       "      <th></th>\n",
       "      <th>db_id</th>\n",
       "      <th>query</th>\n",
       "      <th>question</th>\n",
       "    </tr>\n",
       "  </thead>\n",
       "  <tbody>\n",
       "    <tr>\n",
       "      <th>0</th>\n",
       "      <td>concert_singer</td>\n",
       "      <td>SELECT count(*) FROM singer</td>\n",
       "      <td>How many singers do we have?</td>\n",
       "    </tr>\n",
       "    <tr>\n",
       "      <th>1</th>\n",
       "      <td>concert_singer</td>\n",
       "      <td>SELECT count(*) FROM singer</td>\n",
       "      <td>What is the total number of singers?</td>\n",
       "    </tr>\n",
       "    <tr>\n",
       "      <th>2</th>\n",
       "      <td>concert_singer</td>\n",
       "      <td>SELECT name ,  country ,  age FROM singer ORDE...</td>\n",
       "      <td>Show name, country, age for all singers ordere...</td>\n",
       "    </tr>\n",
       "    <tr>\n",
       "      <th>3</th>\n",
       "      <td>concert_singer</td>\n",
       "      <td>SELECT name ,  country ,  age FROM singer ORDE...</td>\n",
       "      <td>What are the names, countries, and ages for ev...</td>\n",
       "    </tr>\n",
       "    <tr>\n",
       "      <th>4</th>\n",
       "      <td>concert_singer</td>\n",
       "      <td>SELECT avg(age) ,  min(age) ,  max(age) FROM s...</td>\n",
       "      <td>What is the average, minimum, and maximum age ...</td>\n",
       "    </tr>\n",
       "  </tbody>\n",
       "</table>\n",
       "</div>"
      ],
      "text/plain": [
       "            db_id                                              query  \\\n",
       "0  concert_singer                        SELECT count(*) FROM singer   \n",
       "1  concert_singer                        SELECT count(*) FROM singer   \n",
       "2  concert_singer  SELECT name ,  country ,  age FROM singer ORDE...   \n",
       "3  concert_singer  SELECT name ,  country ,  age FROM singer ORDE...   \n",
       "4  concert_singer  SELECT avg(age) ,  min(age) ,  max(age) FROM s...   \n",
       "\n",
       "                                            question  \n",
       "0                       How many singers do we have?  \n",
       "1               What is the total number of singers?  \n",
       "2  Show name, country, age for all singers ordere...  \n",
       "3  What are the names, countries, and ages for ev...  \n",
       "4  What is the average, minimum, and maximum age ...  "
      ]
     },
     "execution_count": 19,
     "metadata": {},
     "output_type": "execute_result"
    }
   ],
   "source": [
    "test_df = test_df[~test_df['db_id'].isin(test_missing_schema)]\n",
    "test_df.head()"
   ]
  },
  {
   "cell_type": "code",
   "execution_count": 21,
   "id": "f4649b70-e977-47a4-a111-00df56f21af1",
   "metadata": {
    "scrolled": true
   },
   "outputs": [],
   "source": [
    "test_df = test_df.iloc[:len(answers),:]\n",
    "test_df['predicted_query'] = answers"
   ]
  },
  {
   "cell_type": "code",
   "execution_count": 23,
   "id": "139191b9-a7d7-4497-9e9f-59b2f7312767",
   "metadata": {},
   "outputs": [
    {
     "data": {
      "text/html": [
       "<div>\n",
       "<style scoped>\n",
       "    .dataframe tbody tr th:only-of-type {\n",
       "        vertical-align: middle;\n",
       "    }\n",
       "\n",
       "    .dataframe tbody tr th {\n",
       "        vertical-align: top;\n",
       "    }\n",
       "\n",
       "    .dataframe thead th {\n",
       "        text-align: right;\n",
       "    }\n",
       "</style>\n",
       "<table border=\"1\" class=\"dataframe\">\n",
       "  <thead>\n",
       "    <tr style=\"text-align: right;\">\n",
       "      <th></th>\n",
       "      <th>db_id</th>\n",
       "      <th>query</th>\n",
       "      <th>question</th>\n",
       "      <th>predicted_query</th>\n",
       "    </tr>\n",
       "  </thead>\n",
       "  <tbody>\n",
       "    <tr>\n",
       "      <th>0</th>\n",
       "      <td>concert_singer</td>\n",
       "      <td>SELECT count(*) FROM singer</td>\n",
       "      <td>How many singers do we have?</td>\n",
       "      <td>SELECT count(*) FROM singer</td>\n",
       "    </tr>\n",
       "    <tr>\n",
       "      <th>1</th>\n",
       "      <td>concert_singer</td>\n",
       "      <td>SELECT count(*) FROM singer</td>\n",
       "      <td>What is the total number of singers?</td>\n",
       "      <td>SELECT COUNT(*) FROM singer</td>\n",
       "    </tr>\n",
       "    <tr>\n",
       "      <th>2</th>\n",
       "      <td>concert_singer</td>\n",
       "      <td>SELECT name ,  country ,  age FROM singer ORDE...</td>\n",
       "      <td>Show name, country, age for all singers ordere...</td>\n",
       "      <td>SELECT singer_Name, singer_Country, singer_Age...</td>\n",
       "    </tr>\n",
       "    <tr>\n",
       "      <th>3</th>\n",
       "      <td>concert_singer</td>\n",
       "      <td>SELECT name ,  country ,  age FROM singer ORDE...</td>\n",
       "      <td>What are the names, countries, and ages for ev...</td>\n",
       "      <td>SELECT Singer_Name, Country, Age \\nFROM singer...</td>\n",
       "    </tr>\n",
       "    <tr>\n",
       "      <th>4</th>\n",
       "      <td>concert_singer</td>\n",
       "      <td>SELECT avg(age) ,  min(age) ,  max(age) FROM s...</td>\n",
       "      <td>What is the average, minimum, and maximum age ...</td>\n",
       "      <td>SELECT AVG(T1.Age), MIN(T1.Age), MAX(T1.Age)\\n...</td>\n",
       "    </tr>\n",
       "  </tbody>\n",
       "</table>\n",
       "</div>"
      ],
      "text/plain": [
       "            db_id                                              query  \\\n",
       "0  concert_singer                        SELECT count(*) FROM singer   \n",
       "1  concert_singer                        SELECT count(*) FROM singer   \n",
       "2  concert_singer  SELECT name ,  country ,  age FROM singer ORDE...   \n",
       "3  concert_singer  SELECT name ,  country ,  age FROM singer ORDE...   \n",
       "4  concert_singer  SELECT avg(age) ,  min(age) ,  max(age) FROM s...   \n",
       "\n",
       "                                            question  \\\n",
       "0                       How many singers do we have?   \n",
       "1               What is the total number of singers?   \n",
       "2  Show name, country, age for all singers ordere...   \n",
       "3  What are the names, countries, and ages for ev...   \n",
       "4  What is the average, minimum, and maximum age ...   \n",
       "\n",
       "                                     predicted_query  \n",
       "0                        SELECT count(*) FROM singer  \n",
       "1                        SELECT COUNT(*) FROM singer  \n",
       "2  SELECT singer_Name, singer_Country, singer_Age...  \n",
       "3  SELECT Singer_Name, Country, Age \\nFROM singer...  \n",
       "4  SELECT AVG(T1.Age), MIN(T1.Age), MAX(T1.Age)\\n...  "
      ]
     },
     "execution_count": 23,
     "metadata": {},
     "output_type": "execute_result"
    }
   ],
   "source": [
    "test_df.head()"
   ]
  },
  {
   "cell_type": "code",
   "execution_count": 25,
   "id": "e7ea614c-984f-4e8b-a6de-6915d704afbf",
   "metadata": {},
   "outputs": [],
   "source": [
    "test_df.to_csv(f'answers/dev_queries_LLaMa-3-8b-{model_name}.csv', index=False)"
   ]
  },
  {
   "cell_type": "code",
   "execution_count": 128,
   "id": "0dcd8d44-de31-4052-ac17-fe0876759459",
   "metadata": {
    "scrolled": true
   },
   "outputs": [
    {
     "data": {
      "text/html": [
       "<div>\n",
       "<style scoped>\n",
       "    .dataframe tbody tr th:only-of-type {\n",
       "        vertical-align: middle;\n",
       "    }\n",
       "\n",
       "    .dataframe tbody tr th {\n",
       "        vertical-align: top;\n",
       "    }\n",
       "\n",
       "    .dataframe thead th {\n",
       "        text-align: right;\n",
       "    }\n",
       "</style>\n",
       "<table border=\"1\" class=\"dataframe\">\n",
       "  <thead>\n",
       "    <tr style=\"text-align: right;\">\n",
       "      <th></th>\n",
       "      <th>db_id</th>\n",
       "      <th>query</th>\n",
       "      <th>question</th>\n",
       "      <th>predicted_query</th>\n",
       "    </tr>\n",
       "  </thead>\n",
       "  <tbody>\n",
       "    <tr>\n",
       "      <th>0</th>\n",
       "      <td>concert_singer</td>\n",
       "      <td>SELECT count(*) FROM singer</td>\n",
       "      <td>How many singers do we have?</td>\n",
       "      <td>SELECT COUNT(*) FROM singer;</td>\n",
       "    </tr>\n",
       "    <tr>\n",
       "      <th>1</th>\n",
       "      <td>concert_singer</td>\n",
       "      <td>SELECT count(*) FROM singer</td>\n",
       "      <td>What is the total number of singers?</td>\n",
       "      <td>SELECT COUNT(*) FROM singer;</td>\n",
       "    </tr>\n",
       "    <tr>\n",
       "      <th>2</th>\n",
       "      <td>concert_singer</td>\n",
       "      <td>SELECT name ,  country ,  age FROM singer ORDE...</td>\n",
       "      <td>Show name, country, age for all singers ordere...</td>\n",
       "      <td>\\r\\n\\r\\nSELECT s.Name, s.Country, s.Age\\r\\nFRO...</td>\n",
       "    </tr>\n",
       "    <tr>\n",
       "      <th>3</th>\n",
       "      <td>concert_singer</td>\n",
       "      <td>SELECT name ,  country ,  age FROM singer ORDE...</td>\n",
       "      <td>What are the names, countries, and ages for ev...</td>\n",
       "      <td>\\r\\n\\r\\nSELECT s.Name, s.Country, s.Age\\r\\nFRO...</td>\n",
       "    </tr>\n",
       "    <tr>\n",
       "      <th>4</th>\n",
       "      <td>concert_singer</td>\n",
       "      <td>SELECT avg(age) ,  min(age) ,  max(age) FROM s...</td>\n",
       "      <td>What is the average, minimum, and maximum age ...</td>\n",
       "      <td>\\r\\n\\r\\nSELECT AVG(Age) AS Average_Age, MIN(Ag...</td>\n",
       "    </tr>\n",
       "  </tbody>\n",
       "</table>\n",
       "</div>"
      ],
      "text/plain": [
       "            db_id                                              query  \\\n",
       "0  concert_singer                        SELECT count(*) FROM singer   \n",
       "1  concert_singer                        SELECT count(*) FROM singer   \n",
       "2  concert_singer  SELECT name ,  country ,  age FROM singer ORDE...   \n",
       "3  concert_singer  SELECT name ,  country ,  age FROM singer ORDE...   \n",
       "4  concert_singer  SELECT avg(age) ,  min(age) ,  max(age) FROM s...   \n",
       "\n",
       "                                            question  \\\n",
       "0                       How many singers do we have?   \n",
       "1               What is the total number of singers?   \n",
       "2  Show name, country, age for all singers ordere...   \n",
       "3  What are the names, countries, and ages for ev...   \n",
       "4  What is the average, minimum, and maximum age ...   \n",
       "\n",
       "                                     predicted_query  \n",
       "0                       SELECT COUNT(*) FROM singer;  \n",
       "1                       SELECT COUNT(*) FROM singer;  \n",
       "2  \\r\\n\\r\\nSELECT s.Name, s.Country, s.Age\\r\\nFRO...  \n",
       "3  \\r\\n\\r\\nSELECT s.Name, s.Country, s.Age\\r\\nFRO...  \n",
       "4  \\r\\n\\r\\nSELECT AVG(Age) AS Average_Age, MIN(Ag...  "
      ]
     },
     "execution_count": 128,
     "metadata": {},
     "output_type": "execute_result"
    }
   ],
   "source": [
    "test_df = pd.read_csv(f'answers/dev_queries_LLaMa-3-8b-{model_name}-clean.csv', quotechar='\"')\n",
    "test_df.head()"
   ]
  },
  {
   "cell_type": "code",
   "execution_count": 130,
   "id": "6fbbb7c3-8a28-4083-ab41-91ffdd090dc1",
   "metadata": {
    "scrolled": true
   },
   "outputs": [
    {
     "name": "stdout",
     "output_type": "stream",
     "text": [
      "Number of successful queries: 785\n",
      "Number of failed queries: 113\n"
     ]
    }
   ],
   "source": [
    "success_query = 0\n",
    "\n",
    "for i in range(len(test_df)):\n",
    "    db_id = test_df.iloc[i, 0]\n",
    "    predicted_query = test_df.iloc[i, 3]\n",
    "    \n",
    "    conn = sqlite3.connect(f\"spider_data/spider_data/database/{db_id}/{db_id}.sqlite\")\n",
    "    cursor = conn.cursor()\n",
    "\n",
    "    try:\n",
    "        cursor.execute(predicted_query)\n",
    "        success_query += 1\n",
    "    except:\n",
    "        # print(predicted_query)\n",
    "        pass\n",
    "        \n",
    "    rows = cursor.fetchall()\n",
    "\n",
    "    conn.close()\n",
    "\n",
    "print(f'Number of successful queries: {success_query}\\nNumber of failed queries: {len(test_df) - success_query}')"
   ]
  }
 ],
 "metadata": {
  "kernelspec": {
   "display_name": "Python [conda env:base] *",
   "language": "python",
   "name": "conda-base-py"
  },
  "language_info": {
   "codemirror_mode": {
    "name": "ipython",
    "version": 3
   },
   "file_extension": ".py",
   "mimetype": "text/x-python",
   "name": "python",
   "nbconvert_exporter": "python",
   "pygments_lexer": "ipython3",
   "version": "3.12.7"
  }
 },
 "nbformat": 4,
 "nbformat_minor": 5
}
