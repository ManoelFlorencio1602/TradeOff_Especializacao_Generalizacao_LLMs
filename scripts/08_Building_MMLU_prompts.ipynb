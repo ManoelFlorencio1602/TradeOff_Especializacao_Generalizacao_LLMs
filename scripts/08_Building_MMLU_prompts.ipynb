{
 "cells": [
  {
   "cell_type": "code",
   "execution_count": 16,
   "id": "4a3f9cd6-7cbe-48ab-8136-5b5f058cc1c3",
   "metadata": {},
   "outputs": [],
   "source": [
    "import pandas as pd\n",
    "import glob\n",
    "import numpy as np\n",
    "import tqdm\n",
    "import os"
   ]
  },
  {
   "cell_type": "code",
   "execution_count": null,
   "id": "c26c2199-ee9d-486c-8d9d-6b0103f73a80",
   "metadata": {},
   "outputs": [],
   "source": [
    "path = '..'\n",
    "os.chdir(path)\n",
    "print(os.getcwd())"
   ]
  },
  {
   "cell_type": "code",
   "execution_count": 73,
   "id": "0ffbe71f-f070-4ea4-b1c9-012cacce7f48",
   "metadata": {},
   "outputs": [],
   "source": [
    "def generate_mmlu_prompt(question, subject, choices):\n",
    "    system_msg = f\"\"\"\n",
    "                 Answer the following multiple-choice question about a specific subject by selecting the correct option: '0', '1', '2', or '3'.\n",
    "                 The provided answer must be only the correrct option, without reasoning, notes or especifications.\n",
    "\n",
    "                 Example 1\n",
    "                     Question: For a stationary autoregressive process, shocks will\n",
    "                     Subject: econometrics\n",
    "                     Choices:\n",
    "                         0: \"Eventually die away\"\n",
    "                         1: \"Persist indefinitely\"\n",
    "                         2: \"Grow exponentially\"\n",
    "                         3: \"Never occur\"\n",
    "                     Correct option: 0\n",
    "                 Example 2\n",
    "                     Question: What is the sign of the covenant for Jewish males?\n",
    "                     Subject: world_religions\n",
    "                     Choices:\n",
    "                         0: \"The rainbow\"\n",
    "                         1: \"Circumcision\"\n",
    "                         2: \"A son\"\n",
    "                         3: \"Bar mitzvah\"\n",
    "                     Correct option: 1\n",
    "                 Example 3\n",
    "                     Question: Psychological egoism is:\n",
    "                     Subject: philosofy\n",
    "                     Choices:\n",
    "                         0: \"an ethical theory about how we ought to behave.\"\n",
    "                         1: \"a generalization concerning the way people tend to behave.\"\n",
    "                         2: \"a claim about human nature and the ways people are capable of behaving.\"\n",
    "                         3: \"none of the above.\"\n",
    "                     Correct option: 2\n",
    "                 Example 4\n",
    "                     Question: You are pushing a truck along a road. Would it be easier to accelerate this truck on Mars? Why? (Assume there is no friction)\n",
    "                     Subject: astronomy\n",
    "                     Choices:\n",
    "                         0: \"It would be harder since the truck is heavier on Mars.\"\n",
    "                         1: \"It would be easier since the truck is lighter on Mars.\"\n",
    "                         2: \"It would be harder since the truck is lighter on Mars.\"\n",
    "                         3: \"It would be the same no matter where you are.\"\n",
    "                     Correct option: 3\n",
    "                 \"\"\"\n",
    "    user_msg = f\"\"\"\n",
    "                Question: {question}\n",
    "                Subject: {subject}\n",
    "                Choices:\n",
    "                \"\"\"\n",
    "    for i in range(len(choices)):\n",
    "        user_msg += f'\\r{i}: \"{choices[i]}\"\\n'\n",
    "\n",
    "    user_msg += \"Correct option:\"\n",
    "\n",
    "    return system_msg, user_msg"
   ]
  },
  {
   "cell_type": "code",
   "execution_count": 75,
   "id": "8b018277-cf54-4718-be99-86d5cbdbe4f4",
   "metadata": {},
   "outputs": [
    {
     "data": {
      "text/plain": [
       "['mmlu_data\\\\astronomy_questions.csv',\n",
       " 'mmlu_data\\\\econometrics_questions.csv',\n",
       " 'mmlu_data\\\\world_religions_questions.csv']"
      ]
     },
     "execution_count": 75,
     "metadata": {},
     "output_type": "execute_result"
    }
   ],
   "source": [
    "filenames = glob.glob('mmlu_data/*')\n",
    "filenames"
   ]
  },
  {
   "cell_type": "code",
   "execution_count": 77,
   "id": "65a755cb-136a-467d-972a-4508c17c828e",
   "metadata": {},
   "outputs": [],
   "source": [
    "prompts = []\n",
    "for filename in filenames:\n",
    "    df = pd.read_csv(filename)\n",
    "    for i in range(len(df)):\n",
    "        question = df.iloc[i, 0]\n",
    "        subject = df.iloc[i, 1]\n",
    "        choices = eval(df.iloc[i, 2])\n",
    "\n",
    "        prompt = generate_mmlu_prompt(question, subject, choices)\n",
    "\n",
    "        prompts.append(prompt)\n",
    "np.save('mmlu_prompts/mmlu_prompts.npy', prompts)    "
   ]
  },
  {
   "cell_type": "code",
   "execution_count": 79,
   "id": "e0b70257-8264-45cb-9afe-a1ba5fe418cd",
   "metadata": {},
   "outputs": [],
   "source": [
    "prompts = np.load('mmlu_prompts/mmlu_prompts.npy')"
   ]
  },
  {
   "cell_type": "code",
   "execution_count": 81,
   "id": "490d1a03-d809-4e18-9b39-5606d6d54ddb",
   "metadata": {},
   "outputs": [
    {
     "name": "stdout",
     "output_type": "stream",
     "text": [
      "\n",
      "                Question: Who is the woman mystic who exemplified the all-consuming love of the divine?\n",
      "                Subject: world_religions\n",
      "                Choices:\n",
      "0: \"Rumi\"       \n",
      "1: \"Rabi'a\"\n",
      "2: \"Fatimah\"\n",
      "3: \"Khadija\"\n",
      "Correct option:\n"
     ]
    }
   ],
   "source": [
    "print(prompts[111][1])"
   ]
  }
 ],
 "metadata": {
  "kernelspec": {
   "display_name": "Python [conda env:base] *",
   "language": "python",
   "name": "conda-base-py"
  },
  "language_info": {
   "codemirror_mode": {
    "name": "ipython",
    "version": 3
   },
   "file_extension": ".py",
   "mimetype": "text/x-python",
   "name": "python",
   "nbconvert_exporter": "python",
   "pygments_lexer": "ipython3",
   "version": "3.12.7"
  }
 },
 "nbformat": 4,
 "nbformat_minor": 5
}
