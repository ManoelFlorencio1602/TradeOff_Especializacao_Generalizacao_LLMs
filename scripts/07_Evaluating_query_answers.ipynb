{
 "cells": [
  {
   "cell_type": "code",
   "execution_count": 2,
   "id": "393412dd-51c5-417b-8d71-a5f59e36129d",
   "metadata": {
    "scrolled": true
   },
   "outputs": [],
   "source": [
    "# !pip install -U deepeval\n",
    "# !pip install -U bitsandbytes"
   ]
  },
  {
   "cell_type": "code",
   "execution_count": 7,
   "id": "fd0521ce-756c-482a-980b-85ce14c7a1d4",
   "metadata": {},
   "outputs": [],
   "source": [
    "from deepeval.test_case import LLMTestCase\n",
    "from deepeval.metrics import BaseMetric\n",
    "import pandas as pd\n",
    "import numpy as np\n",
    "import tqdm\n",
    "import sqlite3\n",
    "import os"
   ]
  },
  {
   "cell_type": "code",
   "execution_count": 9,
   "id": "b7b4d594-3dff-48bf-9bb5-8dc91865b935",
   "metadata": {},
   "outputs": [
    {
     "name": "stdout",
     "output_type": "stream",
     "text": [
      "C:\\Users\\mvict\\OneDrive\\Desktop\\Docs PPGI\\Conteúdo\\NLP\\Trabalho 4\n"
     ]
    }
   ],
   "source": [
    "path = '..'\n",
    "os.chdir(path)\n",
    "print(os.getcwd())"
   ]
  },
  {
   "cell_type": "code",
   "execution_count": 11,
   "id": "5057b527-cd69-4f0e-866e-6daf41c3fe7f",
   "metadata": {},
   "outputs": [],
   "source": [
    "from custom_metrics.customMetric import customMetric"
   ]
  },
  {
   "cell_type": "code",
   "execution_count": 13,
   "id": "76166b8b-18aa-4616-980a-ed786f9e414b",
   "metadata": {},
   "outputs": [
    {
     "name": "stderr",
     "output_type": "stream",
     "text": [
      "100%|███████████████████████████████████████████████████████████████████████████████| 899/899 [00:04<00:00, 182.52it/s]\n",
      "100%|███████████████████████████████████████████████████████████████████████████████| 899/899 [00:04<00:00, 196.02it/s]\n",
      "100%|███████████████████████████████████████████████████████████████████████████████| 899/899 [00:06<00:00, 140.91it/s]\n"
     ]
    }
   ],
   "source": [
    "model_names = ['base', 'LR1e4', 'LR5e5']\n",
    "scores = {key: [] for key in model_names}\n",
    "\n",
    "for model_name in model_names: \n",
    "    \n",
    "    # df_answer = pd.read_csv(f'answers/dev_queries_LLaMa-3-8b-{model_name}-clean.csv')\n",
    "    df_answer = pd.read_csv(f'answers/dev_queries_LLaMa-3-8b-{model_name}.csv')\n",
    "    \n",
    "    for i in tqdm.tqdm(range(len(df_answer))):\n",
    "        db_id = df_answer.iloc[i, 0]\n",
    "        query = df_answer.iloc[i, 1]\n",
    "        question = df_answer.iloc[i, 2]\n",
    "        predicted_query = df_answer.iloc[i, 3]\n",
    "    \n",
    "        conn = sqlite3.connect(f\"spider_data/spider_data/test_database/{db_id}/{db_id}.sqlite\")\n",
    "        conn.text_factory = bytes\n",
    "        cursor = conn.cursor()\n",
    "    \n",
    "        try:\n",
    "            cursor.execute(predicted_query)\n",
    "            predicted_query_result =  cursor.fetchall()\n",
    "        except:\n",
    "            pass\n",
    "    \n",
    "        cursor.execute(query)\n",
    "        query_result = cursor.fetchall()\n",
    "    \n",
    "        test_case = LLMTestCase(\n",
    "            input= question,\n",
    "            actual_output=predicted_query_result,\n",
    "            expected_output=query_result\n",
    "        )\n",
    "    \n",
    "        metric = customMetric()\n",
    "        score = metric.measure(test_case)\n",
    "    \n",
    "        scores[model_name].append(score)\n",
    "    \n",
    "        del metric"
   ]
  },
  {
   "cell_type": "code",
   "execution_count": 14,
   "id": "7d1c21c2-41f3-415b-a77e-ad645d6883a2",
   "metadata": {
    "scrolled": true
   },
   "outputs": [
    {
     "name": "stdout",
     "output_type": "stream",
     "text": [
      "The Execution Accuracy for model base is 41.27%.\n",
      "The Execution Accuracy for model LR1e4 is 46.16%.\n",
      "The Execution Accuracy for model LR5e5 is 55.17%.\n"
     ]
    }
   ],
   "source": [
    "for model_name in model_names:\n",
    "    final_score = round(sum(scores[model_name]) / len(scores[model_name]) * 100, 2)    \n",
    "    print(f'The Execution Accuracy for model {model_name} is {final_score}%.')"
   ]
  }
 ],
 "metadata": {
  "kernelspec": {
   "display_name": "Python [conda env:base] *",
   "language": "python",
   "name": "conda-base-py"
  },
  "language_info": {
   "codemirror_mode": {
    "name": "ipython",
    "version": 3
   },
   "file_extension": ".py",
   "mimetype": "text/x-python",
   "name": "python",
   "nbconvert_exporter": "python",
   "pygments_lexer": "ipython3",
   "version": "3.12.7"
  }
 },
 "nbformat": 4,
 "nbformat_minor": 5
}
