{
 "cells": [
  {
   "cell_type": "code",
   "execution_count": 1,
   "id": "82b37808-0015-45c5-9440-8af4a39544e7",
   "metadata": {},
   "outputs": [],
   "source": [
    "import pandas as pd\n",
    "import glob\n",
    "import numpy as np\n",
    "import tqdm\n",
    "import os"
   ]
  },
  {
   "cell_type": "code",
   "execution_count": null,
   "id": "f10fec6d-690e-41f5-b358-7ffb82bcd645",
   "metadata": {},
   "outputs": [],
   "source": [
    "path = '..'\n",
    "os.chdir(path)\n",
    "print(os.getcwd())"
   ]
  },
  {
   "cell_type": "code",
   "execution_count": 2,
   "id": "e882f862-975e-46cb-93b0-a3e4f87ec88a",
   "metadata": {},
   "outputs": [],
   "source": [
    "def find_db_schema_filename(db_id):\n",
    "    filename = glob.glob(f'spider_data/spider_data/database/{db_id}/*.sql')[0]\n",
    "    return filename"
   ]
  },
  {
   "cell_type": "code",
   "execution_count": 3,
   "id": "1b6c3705-0cf4-46d1-b87c-1c1abbf648ca",
   "metadata": {},
   "outputs": [],
   "source": [
    "def extract_schema(db_id):\n",
    "    with open(find_db_schema_filename(db_id), 'r', encoding=\"utf-8\") as file:\n",
    "        clauses = file.read().split(';')\n",
    "        clauses = [clause[clause.lower().find(\"create table\"):] for clause in clauses if \"create table\" in clause.lower()]\n",
    "    schema = \"\\n\".join(clauses).strip()\n",
    "    return schema"
   ]
  },
  {
   "cell_type": "code",
   "execution_count": 4,
   "id": "7633fdbf-cc06-48d7-ae63-e02d1bb36999",
   "metadata": {},
   "outputs": [],
   "source": [
    "def generate_text2SQL_prompt(db_id, question, query=''):\n",
    "    system_msg = f\"\"\"\n",
    "                 You are a helpful assistant who answers questions about database tables by responding with SQL queries.  \n",
    "                 Users will provide you with a set of tables represented as CREATE TABLE statements.  \n",
    "                 Each CREATE TABLE statement may optionally be followed by the first few rows from the table in order to help write the correct SQL to answer \n",
    "                 questions. After the CREATE TABLE statements users will ask a question using a SQL comment starting with two dashes. \n",
    "                 You should answer the user's question by writing a SQL statement starting with SELECT.\n",
    "\n",
    "                 Example 1:\n",
    "                     Schema: \n",
    "                         CREATE TABLE IF NOT EXISTS \"department\" (\n",
    "                        \"Department_ID\" int,\n",
    "                        \"Name\" text,\n",
    "                        \"Creation\" text,\n",
    "                        \"Ranking\" int,\n",
    "                        \"Budget_in_Billions\" real,\n",
    "                        \"Num_Employees\" real,\n",
    "                        PRIMARY KEY (\"Department_ID\")\n",
    "                        )\n",
    "                        CREATE TABLE IF NOT EXISTS \"head\" (\n",
    "                        \"head_ID\" int,\n",
    "                        \"name\" text,\n",
    "                        \"born_state\" text,\n",
    "                        \"age\" real,\n",
    "                        PRIMARY KEY (\"head_ID\")\n",
    "                        )\n",
    "                        CREATE TABLE IF NOT EXISTS \"management\" (\n",
    "                        \"department_ID\" int,\n",
    "                        \"head_ID\" int,\n",
    "                        \"temporary_acting\" text,\n",
    "                        PRIMARY KEY (\"Department_ID\",\"head_ID\"),\n",
    "                        FOREIGN KEY (\"Department_ID\") REFERENCES `department`(\"Department_ID\"),\n",
    "                        FOREIGN KEY (\"head_ID\") REFERENCES `head`(\"head_ID\")\n",
    "                        )\n",
    "                     Question: How many heads of the departments are older than 56 ?\n",
    "                     SQL answer: SELECT count(*) FROM head WHERE age  >  56\n",
    "\n",
    "                 Example 2:\n",
    "                     Schema: \n",
    "                        CREATE TABLE CLASS (\n",
    "                        CLASS_CODE varchar(5) PRIMARY KEY,\n",
    "                        CRS_CODE varchar(10),\n",
    "                        CLASS_SECTION varchar(2),\n",
    "                        CLASS_TIME varchar(20),\n",
    "                        CLASS_ROOM varchar(8),\n",
    "                        PROF_NUM int,\n",
    "                        FOREIGN KEY (CRS_CODE) REFERENCES COURSE(CRS_CODE)\n",
    "                        FOREIGN KEY (PROF_NUM) REFERENCES EMPLOYEE(EMP_NUM)\n",
    "                        )\n",
    "                        CREATE TABLE COURSE (\n",
    "                        CRS_CODE varchar(10) PRIMARY KEY,\n",
    "                        DEPT_CODE varchar(10),\n",
    "                        CRS_DESCRIPTION varchar(35),\n",
    "                        CRS_CREDIT float(8),\n",
    "                        FOREIGN KEY (DEPT_CODE) REFERENCES DEPARTMENT(DEPT_CODE)\n",
    "                        )\n",
    "                        CREATE TABLE DEPARTMENT (\n",
    "                        DEPT_CODE varchar(10) PRIMARY KEY,\n",
    "                        DEPT_NAME varchar(30),\n",
    "                        SCHOOL_CODE varchar(8),\n",
    "                        EMP_NUM int,\n",
    "                        DEPT_ADDRESS varchar(20),\n",
    "                        DEPT_EXTENSION varchar(4),\n",
    "                        FOREIGN KEY (EMP_NUM) REFERENCES EMPLOYEE(EMP_NUM)\n",
    "                        )\n",
    "                        CREATE TABLE EMPLOYEE (\n",
    "                        EMP_NUM int PRIMARY KEY,\n",
    "                        EMP_LNAME varchar(15),\n",
    "                        EMP_FNAME varchar(12),\n",
    "                        EMP_INITIAL varchar(1),\n",
    "                        EMP_JOBCODE varchar(5),\n",
    "                        EMP_HIREDATE datetime,\n",
    "                        EMP_DOB datetime\n",
    "                        )\n",
    "                        CREATE TABLE ENROLL (\n",
    "                        CLASS_CODE varchar(5),\n",
    "                        STU_NUM int,\n",
    "                        ENROLL_GRADE varchar(50),\n",
    "                        FOREIGN KEY (CLASS_CODE) REFERENCES CLASS(CLASS_CODE)\n",
    "                        FOREIGN KEY (STU_NUM) REFERENCES STUDENT(STU_NUM)\n",
    "                        )\n",
    "                        CREATE TABLE PROFESSOR (\n",
    "                        EMP_NUM int,\n",
    "                        DEPT_CODE varchar(10),\n",
    "                        PROF_OFFICE varchar(50),\n",
    "                        PROF_EXTENSION varchar(4),\n",
    "                        PROF_HIGH_DEGREE varchar(5),\n",
    "                        FOREIGN KEY (EMP_NUM) REFERENCES EMPLOYEE(EMP_NUM),\n",
    "                        FOREIGN KEY (DEPT_CODE) REFERENCES DEPARTMENT(DEPT_CODE)\n",
    "                        )\n",
    "                        CREATE TABLE STUDENT (\n",
    "                        STU_NUM int PRIMARY KEY,\n",
    "                        STU_LNAME varchar(15),\n",
    "                        STU_FNAME varchar(15),\n",
    "                        STU_INIT varchar(1),\n",
    "                        STU_DOB datetime,\n",
    "                        STU_HRS int,\n",
    "                        STU_CLASS varchar(2),\n",
    "                        STU_GPA float(8),\n",
    "                        STU_TRANSFER numeric,\n",
    "                        DEPT_CODE varchar(18),\n",
    "                        STU_PHONE varchar(4),\n",
    "                        PROF_NUM int,\n",
    "                        FOREIGN KEY (DEPT_CODE) REFERENCES DEPARTMENT(DEPT_CODE)\n",
    "                        )\n",
    "                     Question: What is the first name, gpa and phone number of the top 5 students with highest gpa?\n",
    "                     SQL answer: SELECT stu_gpa ,  stu_phone ,  stu_fname FROM student ORDER BY stu_gpa DESC LIMIT 5\n",
    "\n",
    "                Example 3:\n",
    "                    Schema: \n",
    "                        CREATE TABLE Person (\n",
    "                        name varchar(20) PRIMARY KEY,\n",
    "                        age INTEGER,\n",
    "                        city TEXT,\n",
    "                        gender TEXT,\n",
    "                        job TEXT\n",
    "                        )\n",
    "                        CREATE TABLE PersonFriend (\n",
    "                        name varchar(20),\n",
    "                        friend varchar(20),\n",
    "                        year INTEGER,\n",
    "                        FOREIGN KEY (name) REFERENCES Person(name),\n",
    "                        FOREIGN KEY (friend) REFERENCES Person(name)\n",
    "                        )\n",
    "                    Question: Find the name and age of the person who is a friend of both Dan and Alice.\n",
    "                    SQL Answer: SELECT T1.name ,  T1.age FROM Person AS T1 JOIN PersonFriend AS T2 ON T1.name  =  T2.name WHERE T2.friend  =  'Dan' INTERSECT SELECT T1.name ,   T1.age FROM Person AS T1 JOIN PersonFriend AS T2 ON T1.name  =  T2.name WHERE T2.friend  =  'Alice'\n",
    "                 \"\"\"\n",
    "    user_msg = f\"\"\"\n",
    "                Schema: {extract_schema(db_id)}\n",
    "                Question: {question}\n",
    "                SQL Answer: {query}\n",
    "                \"\"\"\n",
    "    return system_msg, user_msg"
   ]
  },
  {
   "cell_type": "code",
   "execution_count": 5,
   "id": "45abe243-885d-41d1-b6a0-fb2d88269934",
   "metadata": {
    "scrolled": true
   },
   "outputs": [
    {
     "name": "stderr",
     "output_type": "stream",
     "text": [
      "100%|█████████████████████████████████████████████████████████████████████████████| 8656/8656 [00:39<00:00, 217.77it/s]\n"
     ]
    }
   ],
   "source": [
    "train_df = pd.read_json('spider_data/spider_data/train_final_without_FS_examples.json')\n",
    "train_prompts = []\n",
    "training_missing_schema = []\n",
    "\n",
    "for i in tqdm.tqdm(range(len(train_df))):\n",
    "    db_id = train_df.iloc[i, 0]\n",
    "    query = train_df.iloc[i, 1]\n",
    "    question = train_df.iloc[i, 2]\n",
    "    try:\n",
    "        train_prompts.append(generate_text2SQL_prompt(db_id, question, query))\n",
    "    except IndexError:\n",
    "        if(db_id not in training_missing_schema):\n",
    "            training_missing_schema.append(db_id)\n",
    "\n",
    "np.save('spider_prompts/training_prompts.npy', train_prompts)"
   ]
  },
  {
   "cell_type": "code",
   "execution_count": 6,
   "id": "c13f4a87-d9e3-453d-912b-ebeb1ab174d1",
   "metadata": {},
   "outputs": [
    {
     "data": {
      "text/plain": [
       "8310"
      ]
     },
     "execution_count": 6,
     "metadata": {},
     "output_type": "execute_result"
    }
   ],
   "source": [
    "len(train_prompts)"
   ]
  },
  {
   "cell_type": "code",
   "execution_count": 7,
   "id": "473e3d98-8ba7-42b7-b4c5-b69acb4f18c1",
   "metadata": {},
   "outputs": [
    {
     "name": "stderr",
     "output_type": "stream",
     "text": [
      "100%|████████████████████████████████████████████████████████████████████████████| 1034/1034 [00:00<00:00, 2848.45it/s]\n"
     ]
    }
   ],
   "source": [
    "names = ['db_id', 'query', 'question']\n",
    "test_df = pd.read_json('spider_data/spider_data/dev.json')\n",
    "test_df = test_df[names]\n",
    "test_prompts = []\n",
    "test_missing_schema = []\n",
    "\n",
    "for i in tqdm.tqdm(range(len(test_df))):\n",
    "    db_id = test_df.iloc[i, 0]\n",
    "    query = test_df.iloc[i, 1]\n",
    "    question = test_df.iloc[i, 2]\n",
    "    \n",
    "    try:\n",
    "        test_prompts.append(generate_text2SQL_prompt(db_id, question))\n",
    "    except IndexError:\n",
    "        if(db_id not in test_missing_schema):\n",
    "            test_missing_schema.append(db_id)\n",
    "\n",
    "np.save('spider_prompts/test_prompts.npy', test_prompts)"
   ]
  },
  {
   "cell_type": "code",
   "execution_count": 8,
   "id": "bec8565d-4f1d-45d7-965c-a8803bbc159f",
   "metadata": {},
   "outputs": [
    {
     "data": {
      "text/plain": [
       "899"
      ]
     },
     "execution_count": 8,
     "metadata": {},
     "output_type": "execute_result"
    }
   ],
   "source": [
    "len(test_prompts)"
   ]
  },
  {
   "cell_type": "code",
   "execution_count": 9,
   "id": "895ae3c5-3f6b-4e1a-a5d1-3cf30165a441",
   "metadata": {},
   "outputs": [
    {
     "data": {
      "text/plain": [
       "'\\n                Schema: CREATE TABLE \"stadium\" (\\n\"Stadium_ID\" int,\\n\"Location\" text,\\n\"Name\" text,\\n\"Capacity\" int,\\n\"Highest\" int,\\n\"Lowest\" int,\\n\"Average\" int,\\nPRIMARY KEY (\"Stadium_ID\")\\n)\\nCREATE TABLE \"singer\" (\\n\"Singer_ID\" int,\\n\"Name\" text,\\n\"Country\" text,\\n\"Song_Name\" text,\\n\"Song_release_year\" text,\\n\"Age\" int,\\n\"Is_male\" bool,\\nPRIMARY KEY (\"Singer_ID\")\\n)\\nCREATE TABLE \"concert\" (\\n\"concert_ID\" int,\\n\"concert_Name\" text,\\n\"Theme\" text,\\n\"Stadium_ID\" text,\\n\"Year\" text,\\nPRIMARY KEY (\"concert_ID\"),\\nFOREIGN KEY (\"Stadium_ID\") REFERENCES \"stadium\"(\"Stadium_ID\")\\n)\\nCREATE TABLE \"singer_in_concert\" (\\n\"concert_ID\" int,\\n\"Singer_ID\" text,\\nPRIMARY KEY (\"concert_ID\",\"Singer_ID\"),\\nFOREIGN KEY (\"concert_ID\") REFERENCES \"concert\"(\"concert_ID\"),\\nFOREIGN KEY (\"Singer_ID\") REFERENCES \"singer\"(\"Singer_ID\")\\n)\\n                Question: How many singers do we have?\\n                SQL Answer: \\n                '"
      ]
     },
     "execution_count": 9,
     "metadata": {},
     "output_type": "execute_result"
    }
   ],
   "source": [
    "test_prompts[0][1]"
   ]
  }
 ],
 "metadata": {
  "kernelspec": {
   "display_name": "Python [conda env:base] *",
   "language": "python",
   "name": "conda-base-py"
  },
  "language_info": {
   "codemirror_mode": {
    "name": "ipython",
    "version": 3
   },
   "file_extension": ".py",
   "mimetype": "text/x-python",
   "name": "python",
   "nbconvert_exporter": "python",
   "pygments_lexer": "ipython3",
   "version": "3.12.7"
  }
 },
 "nbformat": 4,
 "nbformat_minor": 5
}
